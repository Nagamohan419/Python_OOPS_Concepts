{
 "cells": [
  {
   "cell_type": "markdown",
   "id": "2df31222",
   "metadata": {},
   "source": [
    "### Single-responsibility principle (SRP)\n",
    "\n",
    "- “A class should have one, and only one, reason to change”\n",
    "\n",
    "In other words, every component of your code (in general a class, but also a function) should have one and only one responsibility. As a consequence of that, there should be only a reason to change it.\n",
    "\n",
    "Too often you see a piece of code that takes care of an entire process all at once. I.e., A function that loads data, modifies and, plots them, all before returning its result.\n",
    "\n",
    "Let’s take a simpler example, where we have a list of number L = [n1, n2, …, nx] and we compute some mathematical functions to this list. For example, compute the mean, median, etc."
   ]
  },
  {
   "cell_type": "code",
   "execution_count": 2,
   "id": "3461325f",
   "metadata": {},
   "outputs": [
    {
     "name": "stdout",
     "output_type": "stream",
     "text": [
      "the mean is 3.0\n",
      "the max is 5\n"
     ]
    }
   ],
   "source": [
    "#A bad approach would be to have a single function doing all the work:\n",
    "\n",
    "import numpy as np\n",
    "\n",
    "def math_operations(list_):\n",
    "    #Compute Average\n",
    "    print(f\"the mean is {np.mean(list_)}\")\n",
    "    #Compute Max\n",
    "    print(f\"the max is {np.max(list_)}\")\n",
    "    \n",
    "    \n",
    "math_operations(list_=[1,2,3,4,5])"
   ]
  },
  {
   "cell_type": "markdown",
   "id": "a6299bff",
   "metadata": {},
   "source": [
    "The first thing we should do, to make this more SRP compliant, is to split the function math_operations into atomic functions! Thus, when a function’s responsibility cannot be divided into more subparts.\n",
    "\n",
    "The second step is to make a single function (or class), generically named, “main”. This will call all the other functions one-by-one in a step-to-step process."
   ]
  },
  {
   "cell_type": "code",
   "execution_count": 4,
   "id": "753557e6",
   "metadata": {},
   "outputs": [
    {
     "name": "stdout",
     "output_type": "stream",
     "text": [
      "the mean is 3.0\n",
      "the max is 5\n"
     ]
    }
   ],
   "source": [
    "def get_mean(list_):\n",
    "    ''' Compute Mean'''\n",
    "    print(f\"the mean is {np.mean(list_)}\")\n",
    "    \n",
    "def get_max(list_):\n",
    "    print(f\"the max is {np.max(list_)}\")\n",
    "    \n",
    "def main(list_):\n",
    "    #Compute Average\n",
    "    get_mean(list_)\n",
    "    \n",
    "    #Compute Max\n",
    "    get_max(list_)\n",
    "    \n",
    "main([1,2,3,4,5])"
   ]
  },
  {
   "cell_type": "markdown",
   "id": "7f5aa693",
   "metadata": {},
   "source": [
    "### The Open-Closed principle(OCP)\n",
    "- “Software entities … should be open for extension but closed for modification”\n",
    "\n",
    "In other words: You should not need to modify the code you have already written to accommodate new functionality, but simply add what you now need.\n",
    "\n",
    "This does not mean that you cannot change your code when the code premises needs to be modified, but that if you need to add new functions similar to the one present, you should not require to change other parts of the code.\n",
    "\n",
    "To clarify this point let’s refer to the example we saw earlier. If we wanted to add new functionality, for example, compute the median, we should have created a new method function and add its invocation to “main”. That would have added an extension but also modified the main.\n",
    "\n",
    "We can solve this by turning all the functions we wrote into subclasses of a class. In this case, I have created an abstract class called “Operations” with an abstract method “get_operation”. (Abstract classes are generally an advanced topic. If you don’t know what an abstract class is, you can run the following code even without).\n",
    "\n",
    "Now, all the old functions, now classes are called by the __subclasses__() method. That will find all classes inheriting from Operations and operate the function “operations” that is present in all sub-classes."
   ]
  },
  {
   "cell_type": "code",
   "execution_count": 7,
   "id": "565b75c4",
   "metadata": {},
   "outputs": [
    {
     "name": "stdout",
     "output_type": "stream",
     "text": [
      "The mean is 3.0\n",
      "The max is 5\n",
      "The median is 3.0\n"
     ]
    }
   ],
   "source": [
    "import numpy as np\n",
    "from abc import ABC, abstractmethod\n",
    "\n",
    "class Operations(ABC):\n",
    "    '''Operations'''\n",
    "    @abstractmethod\n",
    "    def operation():\n",
    "        pass\n",
    "\n",
    "class Mean(Operations):\n",
    "    ''' Compute Mean'''\n",
    "    def operation(list_):\n",
    "        print(f\"The mean is {np.mean(list_)}\") \n",
    "        \n",
    "class Max(Operations):\n",
    "    '''Compute Max'''\n",
    "    def operation(list_):\n",
    "        print(f\"The max is {np.max(list_)}\") \n",
    "        \n",
    "class Median(Operations):\n",
    "    '''Compute Median'''\n",
    "    def operation(list_):\n",
    "        print(f\"The median is {np.median(list_)}\") \n",
    "        \n",
    "class Main:\n",
    "    '''Main'''\n",
    "    @abstractmethod\n",
    "    def get_operations(list_):\n",
    "        # __subclasses__ will found all classes inheriting from Operations\n",
    "        for operation in Operations.__subclasses__():\n",
    "            operation.operation(list_)\n",
    "\n",
    "if __name__ == \"__main__\":\n",
    "    Main.get_operations([1,2,3,4,5])            \n",
    "            "
   ]
  },
  {
   "cell_type": "markdown",
   "id": "dfd006c6",
   "metadata": {},
   "source": [
    "If now we want to add a new operation e.g.: median, we will only need to add a class “Median” inheriting from the class “Operations”. The newly formed sub-class will be immediately picked up by __subclasses__() and no modification in any other part of the code needs to happen.\n",
    "\n",
    "The result is a very flexible class, that requires minimum time to be maintained."
   ]
  },
  {
   "cell_type": "code",
   "execution_count": null,
   "id": "1c145c38",
   "metadata": {},
   "outputs": [],
   "source": [
    "https://towardsdatascience.com/solid-coding-in-python-1281392a6a94"
   ]
  }
 ],
 "metadata": {
  "kernelspec": {
   "display_name": "Python 3 (ipykernel)",
   "language": "python",
   "name": "python3"
  },
  "language_info": {
   "codemirror_mode": {
    "name": "ipython",
    "version": 3
   },
   "file_extension": ".py",
   "mimetype": "text/x-python",
   "name": "python",
   "nbconvert_exporter": "python",
   "pygments_lexer": "ipython3",
   "version": "3.9.12"
  }
 },
 "nbformat": 4,
 "nbformat_minor": 5
}
